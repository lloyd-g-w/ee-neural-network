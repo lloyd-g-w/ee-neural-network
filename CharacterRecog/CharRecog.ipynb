{
 "cells": [
  {
   "cell_type": "code",
   "execution_count": 5,
   "metadata": {},
   "outputs": [],
   "source": [
    "import cv2 \n",
    "import numpy as np \n",
    "import matplotlib.pyplot as plt\n",
    "import os\n",
    "import pandas as pd\n",
    "import random\n",
    "from tqdm import tqdm\n",
    "import progressbar\n",
    "from alive_progress import alive_bar\n",
    "import time"
   ]
  },
  {
   "cell_type": "code",
   "execution_count": 9,
   "metadata": {},
   "outputs": [],
   "source": [
    "trainers = np.array(pd.read_csv(\"emnist-balanced-train.csv\", nrows=500000, header=None))\n",
    "m, n = trainers.shape\n",
    "np.random.shuffle(trainers)\n",
    "trainers = trainers.T\n",
    "testers = np.array(pd.read_csv(\"emnist-balanced-test.csv\", nrows=18000, header=None))\n",
    "p, q = testers.shape\n",
    "np.random.shuffle(testers)\n",
    "testers = testers.T"
   ]
  },
  {
   "cell_type": "code",
   "execution_count": 10,
   "metadata": {},
   "outputs": [],
   "source": [
    "labels = trainers[0]\n",
    "images = trainers[1:n]/255\n",
    "testLabels = testers[0]\n",
    "testImages = testers[1:q]/255\n"
   ]
  },
  {
   "cell_type": "code",
   "execution_count": 11,
   "metadata": {},
   "outputs": [],
   "source": [
    "labelDictionary = {\n",
    "    0: '0',\n",
    "    1: '1',\n",
    "    2: '2',\n",
    "    3: '3',\n",
    "    4: '4',\n",
    "    5: '5',\n",
    "    6: '6',\n",
    "    7: '7',\n",
    "    8: '8',\n",
    "    9: '9',\n",
    "    10: 'A',\n",
    "    11: 'B',\n",
    "    12: 'C',\n",
    "    13: 'D',\n",
    "    14: 'E',\n",
    "    15: 'F',\n",
    "    16: 'G',\n",
    "    17: 'H',\n",
    "    18: 'I',\n",
    "    19: 'J',\n",
    "    20: 'K',\n",
    "    21: 'L',\n",
    "    22: 'M',\n",
    "    23: 'N',\n",
    "    24: 'O',\n",
    "    25: 'P',\n",
    "    26: 'Q',\n",
    "    27: 'R',\n",
    "    28: 'S',\n",
    "    29: 'T',\n",
    "    30: 'U',\n",
    "    31: 'V',\n",
    "    32: 'W',\n",
    "    33: 'X',\n",
    "    34: 'Y',\n",
    "    35: 'Z',\n",
    "    36: 'a',\n",
    "    37: 'b',\n",
    "    38: 'c',\n",
    "    39: 'd',\n",
    "    40: 'e',\n",
    "    41: 'f',\n",
    "    42: 'g',\n",
    "    43: 'h',\n",
    "    44: 'i',\n",
    "    45: 'j',\n",
    "    46: 'k',\n",
    "    47: 'l',\n",
    "    48: 'm',\n",
    "    49: 'n',\n",
    "    50: 'o',\n",
    "    51: 'p',\n",
    "    52: 'q',\n",
    "    53: 'r',\n",
    "    54: 's',\n",
    "    55: 't',\n",
    "    56: 'u',\n",
    "    57: 'v',\n",
    "    58: 'w',\n",
    "    59: 'x',\n",
    "    60: 'y',\n",
    "    61: 'z',   \n",
    "}"
   ]
  },
  {
   "cell_type": "code",
   "execution_count": 12,
   "metadata": {},
   "outputs": [],
   "source": [
    "files = [\"hidden1bias.npy\", \"outputbias.npy\", \"hidden1weights.npy\", \"outputweights.npy\"]\n",
    "def initalizeFiles():\n",
    "    arrays = []\n",
    "    \n",
    "    hidden1bias = np.random.rand(62, 1)-0.5\n",
    "    arrays.append(hidden1bias)\n",
    "    \n",
    "    outputbias = np.random.rand(62, 1)-0.5\n",
    "    arrays.append(outputbias)\n",
    "    \n",
    "    \n",
    "    hidden1weights = np.random.rand(62, 784)-0.5\n",
    "    arrays.append(hidden1weights)\n",
    "\n",
    "    \n",
    "    outputweights = np.random.rand(62, 62)-0.5\n",
    "    arrays.append(outputweights)\n",
    "    \n",
    "    for count, file in enumerate(files):\n",
    "        np.save(file, arrays[count])\n"
   ]
  },
  {
   "cell_type": "code",
   "execution_count": 13,
   "metadata": {},
   "outputs": [],
   "source": [
    "def Softmax(x):\n",
    "    return np.exp(x) / sum(np.exp(x))\n",
    "\n",
    "def SoftmaxPrime(x):\n",
    "    return Softmax(x)*(1 - Softmax(x))\n",
    "\n",
    "def Sigmoid(x):\n",
    "    return 1/(1 + np.exp(-x))\n",
    "\n",
    "def SigmoidPrime(x):\n",
    "    return Sigmoid(x)*(1 - Sigmoid(x))   \n",
    "\n",
    "def ReLU(x):\n",
    "    return np.maximum(0, x)\n",
    "\n",
    "def ReLUPrime(x):\n",
    "    return np.where(x > 0, 1, 0)"
   ]
  },
  {
   "cell_type": "code",
   "execution_count": 14,
   "metadata": {},
   "outputs": [],
   "source": [
    "def forwardProp(w1, w2, b1, b2, input):\n",
    "    z1 = np.dot(w1, input) + b1\n",
    "    a1 = ReLU(z1)\n",
    "    z2 = np.dot(w2, a1) + b2\n",
    "    a2 = Softmax(z2)\n",
    "    return z1, a1, z2, a2"
   ]
  },
  {
   "cell_type": "code",
   "execution_count": 15,
   "metadata": {},
   "outputs": [],
   "source": [
    "def oneHot(label):\n",
    "    oneHotY = np.zeros((label.size, 62))\n",
    "    oneHotY[np.arange(label.size), label] = 1\n",
    "    oneHotY = oneHotY.T\n",
    "    return oneHotY"
   ]
  },
  {
   "cell_type": "code",
   "execution_count": 16,
   "metadata": {},
   "outputs": [],
   "source": [
    "def backProp(z1, a1, z2, a2, yhat, input, hidden1weights, outputweights):\n",
    "    onehotyhat = oneHot(yhat)\n",
    "    \n",
    "    outputDelta = 2*(a2 - onehotyhat)\n",
    "    hidden1Delta  = np.dot(outputweights.T, outputDelta) * ReLUPrime(z1)\n",
    "    \n",
    "    dw1 = 1/m*np.dot(hidden1Delta, input.T)\n",
    "    dw2 = 1/m*np.dot(outputDelta, a1.T)\n",
    "\n",
    "    \n",
    "    db1 = (1/m*np.sum(hidden1Delta, axis=1)).reshape((62, 1))\n",
    "    db2 = (1/m*np.sum(outputDelta, axis=1)).reshape((62, 1))\n",
    "    \n",
    "    return dw1, dw2, db1, db2\n",
    "\n",
    "def update_params(w1, w2, b1, b2, dw1, dw2,  db1, db2,  alpha):\n",
    "    w1 = w1 - alpha * dw1\n",
    "    w2 = w2 - alpha * dw2\n",
    "    \n",
    "    b1 = b1 - alpha * db1\n",
    "    b2 = b2 - alpha * db2\n",
    "    \n",
    "    np.save(\"hidden1weights.npy\", w1)\n",
    "    np.save(\"outputweights.npy\", w2)\n",
    "\n",
    "    np.save(\"hidden1bias.npy\", b1)\n",
    "    np.save(\"outputbias.npy\", b2)\n",
    "\n",
    "    \n",
    "    return w1, w2, b1, b2"
   ]
  },
  {
   "cell_type": "code",
   "execution_count": 32,
   "metadata": {},
   "outputs": [],
   "source": [
    "def predictions(a2):\n",
    "    return np.argmax(a2, 0)\n",
    "\n",
    "def accuracy(predictions, yhat):\n",
    "    return np.sum(predictions == yhat) / yhat.size\n",
    "\n",
    "def cost(a2, yhat):\n",
    "    onehotyhat = oneHot(yhat)\n",
    "    return 1/m*np.sum(np.sum((np.square(a2 - onehotyhat)),axis=0))"
   ]
  },
  {
   "cell_type": "code",
   "execution_count": 18,
   "metadata": {},
   "outputs": [],
   "source": [
    "def gradient_descent(input, labels, alpha, iterations):\n",
    "    w1 = np.load(\"hidden1weights.npy\")\n",
    "    w2 = np.load(\"outputweights.npy\")\n",
    "    b1 = np.load(\"hidden1bias.npy\")\n",
    "    b2 = np.load(\"outputbias.npy\")\n",
    "    for i in range(iterations):\n",
    "        z1, a1, z2, a2 = forwardProp(w1, w2, b1, b2, input)\n",
    "        dw1, dw2, db1, db2 = backProp(z1, a1, z2, a2, labels, input, w1, w2)\n",
    "        w1, w2, b1, b2 = update_params(w1, w2, b1, b2, dw1, dw2, db1, db2, alpha)\n",
    "        if i % 10 == 0:\n",
    "            print(\"Iteration:\", i)\n",
    "            predics = predictions(a2)\n",
    "            print(\"Accuracy:\", accuracy(predics, labels))\n",
    "            print(\"Cost:\", cost(a2, labels))\n",
    "    return w1, w2, b1, b2"
   ]
  },
  {
   "cell_type": "code",
   "execution_count": 19,
   "metadata": {},
   "outputs": [],
   "source": [
    "def imageVisualiser(input):\n",
    "    input = input.reshape(28, 28)\n",
    "    input = np.fliplr(input)\n",
    "    input = np.rot90(input)\n",
    "    return input"
   ]
  },
  {
   "cell_type": "code",
   "execution_count": 20,
   "metadata": {},
   "outputs": [],
   "source": [
    "def visualTest():\n",
    "    w1 = np.load(\"hidden1weights.npy\")\n",
    "    w2 = np.load(\"outputweights.npy\")\n",
    "    b1 = np.load(\"hidden1bias.npy\")\n",
    "    b2 = np.load(\"outputbias.npy\")\n",
    "    imgNum = random.randint(0, p-1)\n",
    "    label = testLabels[imgNum]\n",
    "    image = testImages[:, imgNum, None]\n",
    "    z1, a1, z2, a2 = forwardProp(w1, w2, b1, b2, image)\n",
    "    prediction = labelDictionary[int(predictions(a2))]\n",
    "    actual = labelDictionary[label]\n",
    "    print(f\"Predicted Character: {prediction} \\nActual Character: {actual}\")\n",
    "    plt.imshow(imageVisualiser(image), cmap='gray')\n"
   ]
  },
  {
   "cell_type": "code",
   "execution_count": 21,
   "metadata": {},
   "outputs": [],
   "source": [
    "def testAccuracy(iterations):\n",
    "    accuracy = 0\n",
    "    w1 = np.load(\"hidden1weights.npy\")\n",
    "    w2 = np.load(\"outputweights.npy\")\n",
    "    b1 = np.load(\"hidden1bias.npy\")\n",
    "    b2 = np.load(\"outputbias.npy\")\n",
    "    for i in range(iterations):\n",
    "        imgNum = random.randint(0, p-1)\n",
    "        label = testLabels[imgNum]\n",
    "        image = testImages[:, imgNum, None]\n",
    "        z1, a1, z2, a2 = forwardProp(w1, w2, b1, b2, image)\n",
    "        prediction = int(predictions(a2))\n",
    "        if label == prediction:\n",
    "            accuracy += 1\n",
    "    return accuracy/iterations"
   ]
  },
  {
   "cell_type": "code",
   "execution_count": 36,
   "metadata": {},
   "outputs": [],
   "source": [
    "def testCostCalc(a2, yhat):\n",
    "    onehotyhat = oneHot(yhat)\n",
    "    return 1/p*np.sum(np.sum((np.square(a2 - onehotyhat)),axis=0))"
   ]
  },
  {
   "cell_type": "code",
   "execution_count": 37,
   "metadata": {},
   "outputs": [],
   "source": [
    "def testCost(input, labels):\n",
    "    w1 = np.load(\"hidden1weights.npy\")\n",
    "    w2 = np.load(\"outputweights.npy\")\n",
    "    b1 = np.load(\"hidden1bias.npy\")\n",
    "    b2 = np.load(\"outputbias.npy\")\n",
    "    z1, a1, z2, a2 = forwardProp(w1, w2, b1, b2, input)\n",
    "    print(\"Cost:\", testCostCalc(a2, labels))"
   ]
  },
  {
   "cell_type": "code",
   "execution_count": null,
   "metadata": {},
   "outputs": [],
   "source": [
    "testCost(testImages, testLabels)"
   ]
  },
  {
   "cell_type": "code",
   "execution_count": null,
   "metadata": {},
   "outputs": [],
   "source": [
    "w1, w2, b1, b2 = gradient_descent(images, labels, 0.1, 1)"
   ]
  },
  {
   "cell_type": "code",
   "execution_count": null,
   "metadata": {},
   "outputs": [],
   "source": [
    "testAccuracy(10000)"
   ]
  },
  {
   "cell_type": "code",
   "execution_count": null,
   "metadata": {},
   "outputs": [],
   "source": [
    "visualTest()"
   ]
  }
 ],
 "metadata": {
  "kernelspec": {
   "display_name": "Python 3",
   "language": "python",
   "name": "python3"
  },
  "language_info": {
   "codemirror_mode": {
    "name": "ipython",
    "version": 3
   },
   "file_extension": ".py",
   "mimetype": "text/x-python",
   "name": "python",
   "nbconvert_exporter": "python",
   "pygments_lexer": "ipython3",
   "version": "3.11.1 (tags/v3.11.1:a7a450f, Dec  6 2022, 19:58:39) [MSC v.1934 64 bit (AMD64)]"
  },
  "orig_nbformat": 4,
  "vscode": {
   "interpreter": {
    "hash": "6775d499a7ca826a427f01a895564d74da2e327108d810759147c4b0ff90db9d"
   }
  }
 },
 "nbformat": 4,
 "nbformat_minor": 2
}
